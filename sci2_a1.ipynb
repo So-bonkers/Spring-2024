{
 "cells": [
  {
   "cell_type": "markdown",
   "metadata": {},
   "source": [
    "# Q1"
   ]
  },
  {
   "cell_type": "code",
   "execution_count": 1,
   "metadata": {},
   "outputs": [],
   "source": [
    "import numpy as np"
   ]
  },
  {
   "cell_type": "code",
   "execution_count": 40,
   "metadata": {},
   "outputs": [
    {
     "data": {
      "text/plain": [
       "array([[ 0,  4,  3],\n",
       "       [ 4,  5,  6],\n",
       "       [ 7,  8,  9],\n",
       "       [10, 11, 12]])"
      ]
     },
     "execution_count": 40,
     "metadata": {},
     "output_type": "execute_result"
    }
   ],
   "source": [
    "# Define the matrix A\n",
    "A = np.array([[0,4,3],[4,5,6],[7,8,9],[10,11,12]])\n",
    "A"
   ]
  },
  {
   "cell_type": "code",
   "execution_count": 3,
   "metadata": {},
   "outputs": [],
   "source": [
    "# Step 1: Compute A^T A and AA^T\n",
    "AT = A.T\n",
    "ATA = AT @ A\n",
    "AAT = A @ AT"
   ]
  },
  {
   "cell_type": "code",
   "execution_count": 6,
   "metadata": {},
   "outputs": [
    {
     "data": {
      "text/plain": [
       "array([[165, 186, 207],\n",
       "       [186, 226, 246],\n",
       "       [207, 246, 270]])"
      ]
     },
     "execution_count": 6,
     "metadata": {},
     "output_type": "execute_result"
    }
   ],
   "source": [
    "ATA"
   ]
  },
  {
   "cell_type": "code",
   "execution_count": 7,
   "metadata": {},
   "outputs": [
    {
     "data": {
      "text/plain": [
       "array([[ 25,  38,  59,  80],\n",
       "       [ 38,  77, 122, 167],\n",
       "       [ 59, 122, 194, 266],\n",
       "       [ 80, 167, 266, 365]])"
      ]
     },
     "execution_count": 7,
     "metadata": {},
     "output_type": "execute_result"
    }
   ],
   "source": [
    "AAT"
   ]
  },
  {
   "cell_type": "code",
   "execution_count": 8,
   "metadata": {},
   "outputs": [],
   "source": [
    "# Step 2: Compute the eigenvalues and eigenvectors of A^T A and AA^T\n",
    "eigvals_ATA, eigvecs_ATA = np.linalg.eig(ATA)\n",
    "eigvals_AAT, eigvecs_AAT = np.linalg.eig(AAT)"
   ]
  },
  {
   "cell_type": "code",
   "execution_count": 9,
   "metadata": {},
   "outputs": [
    {
     "data": {
      "text/plain": [
       "array([6.53506681e+02, 7.20667122e+00, 2.86648073e-01])"
      ]
     },
     "execution_count": 9,
     "metadata": {},
     "output_type": "execute_result"
    }
   ],
   "source": [
    "eigvals_ATA"
   ]
  },
  {
   "cell_type": "code",
   "execution_count": 10,
   "metadata": {},
   "outputs": [
    {
     "data": {
      "text/plain": [
       "array([[-0.49498078, -0.82154238, -0.28295254],\n",
       "       [-0.58503513,  0.55587585, -0.59053868],\n",
       "       [-0.64243904,  0.12676812,  0.75577902]])"
      ]
     },
     "execution_count": 10,
     "metadata": {},
     "output_type": "execute_result"
    }
   ],
   "source": [
    "eigvecs_ATA"
   ]
  },
  {
   "cell_type": "code",
   "execution_count": 11,
   "metadata": {},
   "outputs": [
    {
     "data": {
      "text/plain": [
       "array([6.53506681e+02, 7.20667122e+00, 2.86648073e-01, 1.38313037e-15])"
      ]
     },
     "execution_count": 11,
     "metadata": {},
     "output_type": "execute_result"
    }
   ],
   "source": [
    "eigvals_AAT"
   ]
  },
  {
   "cell_type": "code",
   "execution_count": 12,
   "metadata": {},
   "outputs": [
    {
     "data": {
      "text/plain": [
       "array([[-1.66933771e-01, -9.69932603e-01,  1.77098451e-01,\n",
       "         7.05704590e-15],\n",
       "       [-3.42661928e-01, -9.45487378e-02, -8.40819049e-01,\n",
       "         4.08248290e-01],\n",
       "       [-5.44798135e-01,  6.06725238e-02, -1.81237883e-01,\n",
       "        -8.16496581e-01],\n",
       "       [-7.46934342e-01,  2.15893785e-01,  4.78343282e-01,\n",
       "         4.08248290e-01]])"
      ]
     },
     "execution_count": 12,
     "metadata": {},
     "output_type": "execute_result"
    }
   ],
   "source": [
    "eigvecs_AAT"
   ]
  },
  {
   "cell_type": "code",
   "execution_count": 15,
   "metadata": {},
   "outputs": [],
   "source": [
    "# Step 3: Sort the eigenvalues and corresponding eigenvectors\n",
    "sorted_indices_ATA = np.argsort(eigvals_ATA)[::-1]\n",
    "sorted_indices_AAT = np.argsort(eigvals_AAT)[::-1]"
   ]
  },
  {
   "cell_type": "code",
   "execution_count": 17,
   "metadata": {},
   "outputs": [
    {
     "data": {
      "text/plain": [
       "array([0, 1, 2])"
      ]
     },
     "execution_count": 17,
     "metadata": {},
     "output_type": "execute_result"
    }
   ],
   "source": [
    "sorted_indices_ATA"
   ]
  },
  {
   "cell_type": "code",
   "execution_count": 18,
   "metadata": {},
   "outputs": [
    {
     "data": {
      "text/plain": [
       "array([0, 1, 2, 3])"
      ]
     },
     "execution_count": 18,
     "metadata": {},
     "output_type": "execute_result"
    }
   ],
   "source": [
    "sorted_indices_AAT"
   ]
  },
  {
   "cell_type": "code",
   "execution_count": 19,
   "metadata": {},
   "outputs": [],
   "source": [
    "# Sort eigenvectors according to the sorted eigenvalues\n",
    "V = eigvecs_ATA[:,sorted_indices_ATA]\n",
    "U = eigvecs_AAT[:,sorted_indices_AAT]"
   ]
  },
  {
   "cell_type": "code",
   "execution_count": 20,
   "metadata": {},
   "outputs": [
    {
     "data": {
      "text/plain": [
       "array([[-0.49498078, -0.82154238, -0.28295254],\n",
       "       [-0.58503513,  0.55587585, -0.59053868],\n",
       "       [-0.64243904,  0.12676812,  0.75577902]])"
      ]
     },
     "execution_count": 20,
     "metadata": {},
     "output_type": "execute_result"
    }
   ],
   "source": [
    "V"
   ]
  },
  {
   "cell_type": "code",
   "execution_count": 21,
   "metadata": {},
   "outputs": [
    {
     "data": {
      "text/plain": [
       "array([[-1.66933771e-01, -9.69932603e-01,  1.77098451e-01,\n",
       "         7.05704590e-15],\n",
       "       [-3.42661928e-01, -9.45487378e-02, -8.40819049e-01,\n",
       "         4.08248290e-01],\n",
       "       [-5.44798135e-01,  6.06725238e-02, -1.81237883e-01,\n",
       "        -8.16496581e-01],\n",
       "       [-7.46934342e-01,  2.15893785e-01,  4.78343282e-01,\n",
       "         4.08248290e-01]])"
      ]
     },
     "execution_count": 21,
     "metadata": {},
     "output_type": "execute_result"
    }
   ],
   "source": [
    "U"
   ]
  },
  {
   "cell_type": "code",
   "execution_count": 25,
   "metadata": {},
   "outputs": [
    {
     "data": {
      "text/plain": [
       "array([25.56377673,  2.68452439,  0.53539525])"
      ]
     },
     "execution_count": 25,
     "metadata": {},
     "output_type": "execute_result"
    }
   ],
   "source": [
    "# Step 4: Compute the singular values\n",
    "sing_values = np.sqrt(eigvals_ATA[sorted_indices_ATA])\n",
    "sing_values"
   ]
  },
  {
   "cell_type": "code",
   "execution_count": 28,
   "metadata": {},
   "outputs": [
    {
     "data": {
      "text/plain": [
       "array([[25.56377673,  0.        ,  0.        ],\n",
       "       [ 0.        ,  2.68452439,  0.        ],\n",
       "       [ 0.        ,  0.        ,  0.53539525]])"
      ]
     },
     "execution_count": 28,
     "metadata": {},
     "output_type": "execute_result"
    }
   ],
   "source": [
    "# Step 5: Construct the sigma matrix\n",
    "Sigma = np.diag(sing_values)\n",
    "Sigma"
   ]
  },
  {
   "cell_type": "code",
   "execution_count": 30,
   "metadata": {},
   "outputs": [
    {
     "data": {
      "text/plain": [
       "array([[25.56377673,  0.        ,  0.        ],\n",
       "       [ 0.        ,  2.68452439,  0.        ],\n",
       "       [ 0.        ,  0.        ,  0.53539525],\n",
       "       [ 0.        ,  0.        ,  0.        ]])"
      ]
     },
     "execution_count": 30,
     "metadata": {},
     "output_type": "execute_result"
    }
   ],
   "source": [
    "# Adjust the dimensions of U, Sigma, and V to ensure they can be multiplied to give A.\n",
    "Sigma = np.pad(Sigma, ((0, U.shape[0] - Sigma.shape[0]), (0, V.shape[1] - Sigma.shape[1])), 'constant')\n",
    "Sigma"
   ]
  },
  {
   "cell_type": "code",
   "execution_count": 31,
   "metadata": {},
   "outputs": [
    {
     "name": "stdout",
     "output_type": "stream",
     "text": [
      "U = \n",
      " [[-1.66933771e-01 -9.69932603e-01  1.77098451e-01  7.05704590e-15]\n",
      " [-3.42661928e-01 -9.45487378e-02 -8.40819049e-01  4.08248290e-01]\n",
      " [-5.44798135e-01  6.06725238e-02 -1.81237883e-01 -8.16496581e-01]\n",
      " [-7.46934342e-01  2.15893785e-01  4.78343282e-01  4.08248290e-01]]\n"
     ]
    }
   ],
   "source": [
    "# Print the results\n",
    "print(\"U = \\n\", U)"
   ]
  },
  {
   "cell_type": "code",
   "execution_count": 32,
   "metadata": {},
   "outputs": [
    {
     "name": "stdout",
     "output_type": "stream",
     "text": [
      "Sigma = \n",
      " [[25.56377673  0.          0.        ]\n",
      " [ 0.          2.68452439  0.        ]\n",
      " [ 0.          0.          0.53539525]\n",
      " [ 0.          0.          0.        ]]\n"
     ]
    }
   ],
   "source": [
    "print(\"Sigma = \\n\", Sigma)"
   ]
  },
  {
   "cell_type": "code",
   "execution_count": 36,
   "metadata": {},
   "outputs": [
    {
     "name": "stdout",
     "output_type": "stream",
     "text": [
      "V^T = \n",
      " [[-0.49498078 -0.58503513 -0.64243904]\n",
      " [-0.82154238  0.55587585  0.12676812]\n",
      " [-0.28295254 -0.59053868  0.75577902]]\n"
     ]
    }
   ],
   "source": [
    "print(\"V^T = \\n\", V.T)\n",
    "X = V.T"
   ]
  },
  {
   "cell_type": "code",
   "execution_count": 42,
   "metadata": {},
   "outputs": [],
   "source": [
    "A_reconstructed = A"
   ]
  },
  {
   "cell_type": "code",
   "execution_count": 41,
   "metadata": {},
   "outputs": [],
   "source": [
    "# Step 6: Reconstruct A using the SVD\n",
    "A_reconstructed = U @ Sigma @ X"
   ]
  },
  {
   "cell_type": "code",
   "execution_count": 43,
   "metadata": {},
   "outputs": [
    {
     "data": {
      "text/plain": [
       "array([[ 0,  4,  3],\n",
       "       [ 4,  5,  6],\n",
       "       [ 7,  8,  9],\n",
       "       [10, 11, 12]])"
      ]
     },
     "execution_count": 43,
     "metadata": {},
     "output_type": "execute_result"
    }
   ],
   "source": [
    "A_reconstructed"
   ]
  },
  {
   "cell_type": "markdown",
   "metadata": {},
   "source": [
    "When we multiply U, Sigma and V^T together, the resulting matrix is the original matrix A. This verifies that the SVD wa sperformed correctly, as the product of U, Sigma and V^T results in the expected original matrix A"
   ]
  },
  {
   "cell_type": "markdown",
   "metadata": {},
   "source": [
    "# Q2"
   ]
  }
 ],
 "metadata": {
  "kernelspec": {
   "display_name": "mlstuff",
   "language": "python",
   "name": "python3"
  },
  "language_info": {
   "codemirror_mode": {
    "name": "ipython",
    "version": 3
   },
   "file_extension": ".py",
   "mimetype": "text/x-python",
   "name": "python",
   "nbconvert_exporter": "python",
   "pygments_lexer": "ipython3",
   "version": "3.10.13"
  }
 },
 "nbformat": 4,
 "nbformat_minor": 2
}
